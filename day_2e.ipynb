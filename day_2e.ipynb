{
 "cells": [
  {
   "cell_type": "markdown",
   "metadata": {
    "id": "WXEwMsfUct7U"
   },
   "source": [
    "안녕하세요.<br><br>\n",
    "수강생 여러분~! Chapter05 ~ 08 수업은 잘 들으셨나요?\n",
    "\n",
    "Chapter05 ~ 08의 수업 내용을 바탕으로 아래 문제를 풀어주시면 됩니다.\n",
    "\n",
    "<br>\n",
    "\n",
    "\n",
    "[**답변 입력 방법**]\n",
    "\n",
    "문제 아래에 있는 코드 입력창에 정답코드를 작성하신 후  __▷ 버튼을 클릭해 코드를 실행__ 해보세요<br>"
   ]
  },
  {
   "cell_type": "markdown",
   "metadata": {
    "id": "qoyC9wF-3hvs"
   },
   "source": [
    "-----"
   ]
  },
  {
   "cell_type": "markdown",
   "metadata": {},
   "source": [
    "## 모험가들의 레벨업 도전\n",
    "\n",
    "### [배경 이야기]\n",
    "\n",
    "당신은 마법사, 전사, 도적, 힐러 네 명의 모험가를 이끄는 리더입니다. \n",
    "\n",
    "각 캐릭터는 힘, 민첩, 지능, 체력이라는 능력치를 가지고 있습니다. 이 능력치들을 이용해 다양한 도전을 해결하고 사냥을 통해 경험치를 얻어 레벨업을 해야 합니다.\n",
    "\n",
    "<br>\n",
    "\n",
    "### [동료 캐릭터와 능력치 정보]\n",
    "\n",
    "마법사: 힘(10), 민첩(20), 지능(80), 체력(50)\n",
    "\n",
    "전사: 힘(80), 민첩(30), 지능(20), 체력(100)\n",
    "\n",
    "도적: 힘(40), 민첩(80), 지능(30), 체력(60)\n",
    "\n",
    "힐러: 힘(20), 민첩(40), 지능(70), 체력(70)\n",
    "\n",
    "<br>\n",
    "\n",
    "* 변수명을 영어로 변경해서 풀어보세요 !"
   ]
  },
  {
   "cell_type": "markdown",
   "metadata": {},
   "source": [
    "<br>\n",
    "\n",
    "__[문제 1: 첫 번째 사냥]__\n",
    "\n",
    "마법사는 몬스터를 사냥하기 위해 마법을 사용합니다. \n",
    "\n",
    "마법을 사용하려면 지능이 50 이상이어야 합니다. \n",
    "\n",
    "마법사의 지능이 50 이상인지 확인하세요."
   ]
  },
  {
   "cell_type": "code",
   "execution_count": null,
   "metadata": {},
   "outputs": [
    {
     "name": "stdout",
     "output_type": "stream",
     "text": [
      "현재 마법사의 지능은 80입니다.\n",
      "ICE AGE !! 얼음공격으로 몬스터에게 치명타를 입힙니다!\n",
      "몬스터는 마법사의 얼음공격에 맥없이 쓰러집니다.\n",
      "---------- STAGE CLEAR ----------\n"
     ]
    }
   ],
   "source": [
    "magition_int = 80\n",
    "\n",
    "if magition_int >= 50 :\n",
    "    print(f\"현재 마법사의 지능은 {magition_int}입니다.\")\n",
    "    print(\"ICE AGE !! 얼음공격으로 슬라임들 에게 광역공격을 입힙니다!\")\n",
    "    print(\"슬라임들은 마법사의 얼음공격에 맥없이 쓰러집니다.\")\n",
    "    print(\"---------- STAGE CLEAR ----------\")\n",
    "else :\n",
    "    print(f\"현재 마법사의 지능은 {magition_int}입니다.\")\n",
    "    print(\"마법사는 마법을 사용하지 못하고 모험가 무리들은 슬라임들의 공격에 속수무책으로 당합니다.\")\n",
    "    print(\"---------- THE END ----------\")"
   ]
  },
  {
   "cell_type": "markdown",
   "metadata": {},
   "source": [
    "<br>\n",
    "\n",
    "__[문제 2: 두 번째 사냥]__\n",
    "\n",
    "전사는 강력한 공격을 하기 위해 자신의 힘을 사용합니다. \n",
    "\n",
    "전사의 힘이 60 이상이고 체력이 80 이상인지 확인하세요."
   ]
  },
  {
   "cell_type": "code",
   "execution_count": 8,
   "metadata": {},
   "outputs": [
    {
     "name": "stdout",
     "output_type": "stream",
     "text": [
      "현재 전사의 힘은 80입니다.\n",
      "현재 전사의 체력은 100입니다.\n",
      "ORA BLADE!! 전사의 묵직한 검격에 해골 병사들은 속수무책으로 공격을 허용합니다.\n",
      "해골 병사들의 잔해가 던전 바닥에 나뒹굽니다.\n",
      "모험가들은 잔해들을 뒤로하고 던전 깊숙한 곳으로 들어갑니다.\n",
      "---------- STAGE CLEAR ----------\n"
     ]
    }
   ],
   "source": [
    "warrior_str = 80\n",
    "warrior_hp = 100\n",
    "\n",
    "if warrior_str >= 60 and warrior_hp >= 80 :\n",
    "    print(f\"현재 전사의 힘은 {warrior_str}입니다.\")\n",
    "    print(f\"현재 전사의 체력은 {warrior_hp}입니다.\")\n",
    "    print(\"ORA BLADE!! 전사의 묵직한 검격에 해골 병사들은 속수무책으로 공격을 허용합니다.\")\n",
    "    print(\"해골 병사들의 잔해가 던전 바닥에 나뒹굽니다.\")\n",
    "    print(\"모험가들은 잔해들을 뒤로하고 던전 깊숙한 곳으로 들어갑니다.\")\n",
    "    print(\"---------- STAGE CLEAR ----------\")\n",
    "\n",
    "else :\n",
    "    print(f\"현재 전사의 힘은 {warrior_str}입니다.\")\n",
    "    print(f\"현재 전사의 체력은 {warrior_hp}입니다.\")\n",
    "    print(\"해골병사와의 접전중, 전사의 검이 부러지며 치명타를 허용합니다.\")\n",
    "    print(\"모험가들은 해골병사들에게 둘러쌓이며 이곳에서 마지막 여정을 마칩니다.\")\n",
    "    print(\"---------- THE END ----------\")\n"
   ]
  },
  {
   "cell_type": "markdown",
   "metadata": {},
   "source": [
    "<br>\n",
    "\n",
    "__[문제 3: 세 번째 사냥]__\n",
    "\n",
    "도적은 민첩함을 이용해 몬스터를 회피하고 공격합니다. \n",
    "\n",
    "도적의 민첩이 70 이상이거나 힘이 50 이상인지 확인하세요."
   ]
  },
  {
   "cell_type": "code",
   "execution_count": null,
   "metadata": {},
   "outputs": [
    {
     "name": "stdout",
     "output_type": "stream",
     "text": [
      "현재 도적의 민첩은 80입니다.\n",
      "현재 도적의 힘은 40입니다.\n",
      "도적은 완벽한 은신에 성공했지만 와이번의 광역공격에 휘말리고 맙니다.\n",
      "도적은 와이번의 각종 디버프를 받으며 광역공격을 허용합니다.\n",
      "도적은 치명상을 입고서 뒤로 물러 납니다.\n"
     ]
    }
   ],
   "source": [
    "thief_luk = 80\n",
    "thief_str = 40\n",
    "\n",
    "if thief_luk >= 70 and thief_str >= 50 :\n",
    "    print(f\"현재 도적의 민첩은 {thief_luk}입니다.\")\n",
    "    print(f\"현재 도적의 힘은 {thief_str}입니다.\")\n",
    "    print(\"DEATH SIDES!! 도적의 민첩함과 빠른 공격을 와이번은 알아채지 못한채 공격을 허용합니다.\")\n",
    "    print(\"와이번의 입에서 내뿜던 불길이 사그라 들며 바닥으로 추락합니다.\")\n",
    "    print(\"모험가들은 와이번들을 무찌르고 던전 탐험을 무사히 마칩니다.\")\n",
    "    print(\"---------- DUNGUN CLEAR ----------\")\n",
    "\n",
    "else :\n",
    "    print(f\"현재 도적의 민첩은 {thief_luk}입니다.\")\n",
    "    print(f\"현재 도적의 힘은 {thief_str}입니다.\")\n",
    "    print(\"도적은 완벽한 은신에 성공했지만 와이번의 광역공격에 휘말리고 맙니다.\")\n",
    "    print(\"도적은 와이번의 각종 디버프를 받으며 광역공격을 허용합니다.\")\n",
    "    print(\"도적은 치명상을 입고서 뒤로 물러 납니다.\")"
   ]
  },
  {
   "cell_type": "markdown",
   "metadata": {},
   "source": [
    "<br>\n",
    "\n",
    "__[문제 4: 네 번째 사냥]__\n",
    "\n",
    "힐러는 파티의 체력을 회복시키기 위해 마법을 사용합니다. \n",
    "\n",
    "힐러의 지능이 60 이상이고, 체력이 50 이상인지 확인하세요."
   ]
  },
  {
   "cell_type": "code",
   "execution_count": 10,
   "metadata": {},
   "outputs": [
    {
     "name": "stdout",
     "output_type": "stream",
     "text": [
      "현재 힐러의 지능은 70입니다.\n",
      "현재 힐러의 체력은 70입니다.\n",
      "DIVINE HEALING!! 힐러의 광역힐에 도적의 치명상이 회복됩니다.\n",
      "PRAY MAGIC CIRCLE!! 힐러의 버프를 받고 다른 팀원들이 와이번에게로 돌격합니다!!\n",
      "와이번의 입에서 내뿜던 불길이 사그라 들며 바닥으로 추락합니다.\n",
      "모험가들은 와이번들을 무찌르고 던전을 무사히 클리어 합니다.\n",
      "---------- DUNGUN CLEAR ----------\n"
     ]
    }
   ],
   "source": [
    "healer_int = 70\n",
    "healer_hp = 70\n",
    "\n",
    "if healer_int >= 60 and healer_hp >= 50 :\n",
    "    print(f\"현재 힐러의 지능은 {healer_int}입니다.\")\n",
    "    print(f\"현재 힐러의 체력은 {healer_hp}입니다.\")\n",
    "    print(\"DIVINE HEALING!! 힐러의 광역힐에 도적의 치명상이 회복됩니다.\")\n",
    "    print(\"PRAY MAGIC CIRCLE!! 힐러의 버프를 받고 다른 팀원들이 와이번에게로 돌격합니다!!\")\n",
    "    print(\"와이번의 입에서 내뿜던 불길이 사그라 들며 바닥으로 추락합니다.\")\n",
    "    print(\"모험가들은 와이번들을 무찌르고 던전을 무사히 클리어 합니다.\")\n",
    "    print(\"---------- DUNGUN CLEAR ----------\")\n",
    "\n",
    "else :\n",
    "    print(f\"현재 힐러의 지능은 {healer_int}입니다.\")\n",
    "    print(f\"현재 힐러의 체력은 {healer_hp}입니다.\")\n",
    "    print(\"힐러가 주문을 외우는 사이 와이번은 힐러를 향해 거친 불길을 내뿜습니다.\")\n",
    "    print(\"힐러는 무방비 상태로 와이번의 공격을 허용합니다.\")\n",
    "    print(\"힐러가 쓰러지고 다른 팀원들도 지쳐 쓰러지기 시작합니다.\")\n",
    "    print(\"모험가들은 던전에서 도망치지도 못한채 이곳에서 싸늘한 죽음을 맞이합니다.\")\n",
    "    print(\"---------- THE END ----------\")"
   ]
  },
  {
   "cell_type": "markdown",
   "metadata": {},
   "source": [
    "<br>\n",
    "\n",
    "__[문제 5: 레벨업]__\n",
    "\n",
    "모든 캐릭터가 사냥을 성공적으로 마쳤습니다. 이제 경험치를 얻어 레벨업을 해야 합니다. \n",
    "\n",
    "\n",
    "각 캐릭터의 경험치가 100 이상인지 print()를 이용해 확인해주세요.\n",
    "\n",
    "<br>\n",
    "\n",
    "경험치는 아래와 같습니다.\n",
    "\n",
    "마법사: 120\n",
    "\n",
    "전사: 150\n",
    "\n",
    "도적: 110\n",
    "\n",
    "힐러: 90\n",
    "\n"
   ]
  },
  {
   "cell_type": "code",
   "execution_count": null,
   "metadata": {},
   "outputs": [
    {
     "name": "stdout",
     "output_type": "stream",
     "text": [
      "모험가 무리는 사냥을 끝마치고서 자신들의 경험치를 확인합니다.\n",
      "\n",
      "\n",
      "현재 마법사의 경험치는 120 입니다.\n",
      "경험치 수치가 100을 넘어 레벨을 +1 합니다.\n",
      "\n",
      "\n",
      "현재 전사의 경험치는 150 입니다.\n",
      "경험치 수치가 100을 넘어 레벨을 +1 합니다.\n",
      "\n",
      "\n",
      "현재 도적의 경험치는 110 입니다.\n",
      "경험치 수치가 100을 넘어 레벨을 +1 합니다.\n",
      "\n",
      "\n",
      "경험치가 100을 넘기지 못하여 레벨업을 하지 못하였습니다.\n"
     ]
    }
   ],
   "source": [
    "magition = 120\n",
    "warrior = 150\n",
    "thief = 110\n",
    "healer = 90\n",
    "\n",
    "print(\"모험가 무리는 사냥을 끝마치고서 자신들의 경험치를 확인합니다.\")\n",
    "\n",
    "print(\"\\n\")\n",
    "\n",
    "if magition >= 100 :\n",
    "    print(f\"현재 마법사의 경험치는 {magition} 입니다.\")\n",
    "    print(\"경험치 수치가 100을 넘어 레벨을 +1 합니다.\")\n",
    "else : \n",
    "    print(\"마법사의 경험치가 100을 넘기지 못하여 레벨업을 하지 못하였습니다.\")\n",
    "\n",
    "print(\"\\n\")\n",
    "\n",
    "if warrior >= 100 :\n",
    "    print(f\"현재 전사의 경험치는 {warrior} 입니다.\")\n",
    "    print(\"경험치 수치가 100을 넘어 레벨을 +1 합니다.\")\n",
    "else : \n",
    "    print(\"전사의 경험치가 100을 넘기지 못하여 레벨업을 하지 못하였습니다.\")\n",
    "\n",
    "print(\"\\n\")\n",
    "\n",
    "if thief >= 100 :\n",
    "    print(f\"현재 도적의 경험치는 {thief} 입니다.\")\n",
    "    print(\"경험치 수치가 100을 넘어 레벨을 +1 합니다.\")\n",
    "else : \n",
    "    print(\"도적의 경험치가 100을 넘기지 못하여 레벨업을 하지 못하였습니다.\")\n",
    "\n",
    "print(\"\\n\")\n",
    "\n",
    "if healer >= 100 :\n",
    "    print(f\"현재 힐러의 경험치는 {healer} 입니다.\")\n",
    "    print(\"경험치 수치가 100을 넘어 레벨을 +1 합니다.\")\n",
    "else : \n",
    "    print(\"힐러의 경험치가 100을 넘기지 못하여 레벨업을 하지 못하였습니다.\")"
   ]
  }
 ],
 "metadata": {
  "colab": {
   "authorship_tag": "ABX9TyP7YKA5FdtGggYfD74V7SMJ",
   "provenance": []
  },
  "kernelspec": {
   "display_name": "Python 3",
   "name": "python3"
  },
  "language_info": {
   "codemirror_mode": {
    "name": "ipython",
    "version": 3
   },
   "file_extension": ".py",
   "mimetype": "text/x-python",
   "name": "python",
   "nbconvert_exporter": "python",
   "pygments_lexer": "ipython3",
   "version": "3.13.7"
  }
 },
 "nbformat": 4,
 "nbformat_minor": 0
}
