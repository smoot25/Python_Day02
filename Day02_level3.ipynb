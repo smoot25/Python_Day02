{
 "cells": [
  {
   "cell_type": "markdown",
   "metadata": {
    "id": "WXEwMsfUct7U"
   },
   "source": [
    "안녕하세요.<br><br>\n",
    "수강생 여러분~! \n",
    "\n",
    "\"Challenge : Chapter05 ~ 08 문제풀기\"는 잘 풀어보셨나요?\n",
    "\n",
    "\n",
    "너~~무 어려웠어요! 하는 분들을 위해 만들어봤습니다!\n",
    "\n",
    "문제 도장깨기 !!!!!\n",
    "\n",
    "차근차근 풀어나가면 파이썬 정복 가능입니다!\n",
    "\n",
    "화이팅 !\n",
    "\n",
    "\n",
    "Chapter05~08의 수업 내용을 바탕으로 아래 문제를 풀어주시면 됩니다.\n",
    "\n",
    "<br>\n",
    "\n",
    "[**답변 입력 방법**]\n",
    "\n",
    "문제 아래에 있는 코드 입력창에 정답코드를 작성하신 후  __▷ 버튼을 클릭해 코드를 실행__ 해보세요<br>\n",
    "<br>"
   ]
  },
  {
   "cell_type": "markdown",
   "metadata": {
    "id": "qoyC9wF-3hvs"
   },
   "source": [
    "-----"
   ]
  },
  {
   "cell_type": "markdown",
   "metadata": {},
   "source": [
    "<br>\n",
    "\n",
    "__[문제1]__\n",
    "\n",
    "미션 부수기 챌린지\n",
    "\n",
    "다음 미션을 차례대로 부숴주세요.\n",
    "\n",
    "<br>\n",
    "\n",
    "__미션__\n",
    "- x에 5를 할당하고, y에는 10을 할당\n",
    "- x의 값을 제곱하고, 그 값을 z에 할당\n",
    "- y의 값을 2로 나눈 후, 그 값을 a에 할당\n",
    "- a와 z를 더한 값을 b에 할당\n",
    "- b의 값이 x와 같은지 출력\n",
    "-  b와 a를 문자열로 변환하여 합친 결과를 출력\n",
    "\n",
    "\n",
    "<br>"
   ]
  },
  {
   "cell_type": "code",
   "execution_count": 5,
   "metadata": {},
   "outputs": [
    {
     "name": "stdout",
     "output_type": "stream",
     "text": [
      "False\n",
      "530\n"
     ]
    }
   ],
   "source": [
    "x, y = 5, 10\n",
    "z = x ** 2\n",
    "a = y / 2\n",
    "b = a + z\n",
    "print(b == x)\n",
    "\n",
    "int_a, int_b = int(a), int(b) #실수로 나오길래 정수 변환\n",
    "str_a, str_b = str(int_a), str(int_b)\n",
    "str_ab = str_a + str_b\n",
    "print(str_ab)"
   ]
  },
  {
   "cell_type": "markdown",
   "metadata": {},
   "source": [
    "<br>\n",
    "\n",
    "__[문제2]__\n",
    "\n",
    "변수 num에 \"45.67\" 이라는 문자열을 할당하고,\n",
    "\n",
    "파이썬 나라에서 돌다리를 건너려고 합니다.\n",
    "\n",
    "이 돌다리는 반드시 두드려 보고 건너야 합니다. \n",
    "\n",
    "미션을 해결하면 자동으로 단단한 돌다리인지 확인 됩니다! \n",
    "\n",
    "아래의 미션을 확인하고 돌다리를 건너주세요!\n",
    "\n",
    "<br>\n",
    "\n",
    "__미션__\n",
    "- 문자열 할당 (num)\n",
    "- 소수점 포함 숫자로 출력\n",
    "- 정수만 출력\n",
    "\n",
    "<br>"
   ]
  },
  {
   "cell_type": "code",
   "execution_count": 7,
   "metadata": {},
   "outputs": [
    {
     "name": "stdout",
     "output_type": "stream",
     "text": [
      "45.67\n",
      "45\n"
     ]
    }
   ],
   "source": [
    "num = \"45.67\"\n",
    "float_num = float(num)\n",
    "int_num = int(float_num)\n",
    "\n",
    "print(float_num)\n",
    "print(int_num)"
   ]
  },
  {
   "cell_type": "markdown",
   "metadata": {
    "id": "rAD_O3Gmc_43"
   },
   "source": [
    "<br>\n",
    "\n",
    "__[문제3]__\n",
    "\n",
    "첫 번째 공백을 기준으로 앞부분만 추출해주세요!\n",
    "\n",
    "<br>\n",
    "\n",
    "__text = \"Hello World Python\"__\n"
   ]
  },
  {
   "cell_type": "code",
   "execution_count": 19,
   "metadata": {
    "id": "74wtVQFFc_h1"
   },
   "outputs": [
    {
     "name": "stdout",
     "output_type": "stream",
     "text": [
      "첫번째 공백의 위치 : 5\n",
      "첫번째 공백 기준 앞부분 글자 : Hello\n"
     ]
    }
   ],
   "source": [
    "text = \"Hello World Python\"\n",
    "first_space = text.find(' ')\n",
    "first_letter = text[0:5]\n",
    "\n",
    "print(f\"첫번째 공백의 위치 : {first_space}\")\n",
    "print(f\"첫번째 공백 기준 앞부분 글자 : {first_letter}\")"
   ]
  },
  {
   "cell_type": "markdown",
   "metadata": {
    "id": "3uK_auXYdgk2"
   },
   "source": [
    "<br>__[문제4]__\n",
    "\n",
    "문자열 \"PythonProgramming\" 이 주어졌을 때, 다음 미션을 해결해주세요!\n",
    "\n",
    "<br>\n",
    "\n",
    "__미션__\n",
    "- \"Python\"을 출력\n",
    "- \"Programming\" 출력\n",
    "- \"Pyg\" 출력\n",
    "- \"in\" 출력"
   ]
  },
  {
   "cell_type": "code",
   "execution_count": 42,
   "metadata": {
    "id": "9kvBxa6PdhgA"
   },
   "outputs": [
    {
     "name": "stdout",
     "output_type": "stream",
     "text": [
      "Python\n",
      "Programming\n",
      "Pyg\n",
      "in\n"
     ]
    }
   ],
   "source": [
    "text = \"PythonProgramming\"\n",
    "# \"Python\"을 출력\n",
    "text_Python = text[0:6]\n",
    "print(text_Python)\n",
    "\n",
    "# \"Programming\" 출력\n",
    "text_Programming = text[6:]\n",
    "print(text_Programming)\n",
    "\n",
    "# \"Pyg\" 출력\n",
    "text_Py = text[0:2]\n",
    "text_Python = text[-1]\n",
    "text_Pyg = text_Py + text_Python\n",
    "print(text_Pyg)\n",
    "\n",
    "# \"in\" 출력\n",
    "text_in = text[-3:-1]\n",
    "print(text_in)"
   ]
  },
  {
   "cell_type": "markdown",
   "metadata": {
    "id": "2Jte2VLKdiPm"
   },
   "source": [
    "__[문제5]__\n",
    "\n",
    "해외로 편지를 보냅니다. \n",
    "\n",
    "영어를 알파벳만 알기 때문에 아는 것만 적어 보내려고 합니다.\n",
    "\n",
    "근데 중간에 오타가 발생해버렸네요! 문자열의 일부를 바꿔 올바르게 고쳐 주세요. (소문자)\n",
    "\n",
    "<br>\n",
    "\n",
    "__word = \"abcXYZgh\"__\n"
   ]
  },
  {
   "cell_type": "code",
   "execution_count": 45,
   "metadata": {},
   "outputs": [
    {
     "name": "stdout",
     "output_type": "stream",
     "text": [
      "abcXYZgh\n"
     ]
    }
   ],
   "source": [
    "word = \"abcXYZgh\"\n",
    "word.replace(\"XYZ\",\"xyz\")\n",
    "print(word)"
   ]
  },
  {
   "cell_type": "markdown",
   "metadata": {},
   "source": [
    "__[문제6]__\n",
    "\n",
    "창의성, 시장성, 안정성, 수익성에 대한 각각의 평가 중 아래 기준에 부합하지 못하면 창업지원을 받을 수 없습니다.\n",
    "\n",
    "- 수익성 60점 이상\n",
    "- 창의성과 시장성 50점 이상\n",
    "- 시장성과 수익성을 더한 값의 절반이 안정성 보다 높아야 함\n",
    "\n",
    "\n",
    "다음 점수가 입력되었을때 창업 지원이 가능한지 여부를 True 또는 False로 출력해주세요.\n",
    "\n",
    "---\n",
    "\n",
    "창의성 : 62\n",
    "시장성 : 71\n",
    "안정성 : 68\n",
    "수익성 : 66\n",
    "<br>\n",
    "\n",
    "* 참고\n",
    "(creativity ,\n",
    "marketability ,\n",
    "stability ,\n",
    "profitability )\n",
    "\n",
    "<br>\n",
    "\n",
    "__Tips__\n",
    "* 비교 연산자와 논리 연산자의 결과를 고려해보아요\n"
   ]
  },
  {
   "cell_type": "code",
   "execution_count": 48,
   "metadata": {},
   "outputs": [
    {
     "name": "stdout",
     "output_type": "stream",
     "text": [
      "True\n"
     ]
    }
   ],
   "source": [
    "profitability = 66\n",
    "creativity = 62\n",
    "marketability = 71\n",
    "stability = 68\n",
    "than_stability = (marketability + profitability) / 2\n",
    "\n",
    "all_pass = (profitability >= 60) and (creativity, marketability >= 50) and (than_stability > stability)\n",
    "\n",
    "print(all_pass)"
   ]
  }
 ],
 "metadata": {
  "colab": {
   "authorship_tag": "ABX9TyM3gebHvdgzn1rFsPHWTyo9",
   "provenance": []
  },
  "kernelspec": {
   "display_name": "Python 3",
   "name": "python3"
  },
  "language_info": {
   "codemirror_mode": {
    "name": "ipython",
    "version": 3
   },
   "file_extension": ".py",
   "mimetype": "text/x-python",
   "name": "python",
   "nbconvert_exporter": "python",
   "pygments_lexer": "ipython3",
   "version": "3.13.7"
  }
 },
 "nbformat": 4,
 "nbformat_minor": 0
}
